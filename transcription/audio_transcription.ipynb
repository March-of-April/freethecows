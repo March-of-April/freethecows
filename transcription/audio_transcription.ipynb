{
 "cells": [
  {
   "cell_type": "code",
   "execution_count": 1,
   "metadata": {},
   "outputs": [],
   "source": [
    "import whisper"
   ]
  },
  {
   "cell_type": "code",
   "execution_count": 5,
   "metadata": {},
   "outputs": [
    {
     "name": "stderr",
     "output_type": "stream",
     "text": [
      "100%|█████████████████████████████████████| 1.42G/1.42G [00:34<00:00, 44.3MiB/s]\n"
     ]
    }
   ],
   "source": [
    "model = whisper.load_model(\"medium\")"
   ]
  },
  {
   "cell_type": "code",
   "execution_count": 6,
   "metadata": {},
   "outputs": [
    {
     "name": "stderr",
     "output_type": "stream",
     "text": [
      "/Users/salgu/Workspace/1_project/cow/.venv/lib/python3.12/site-packages/whisper/transcribe.py:132: UserWarning: FP16 is not supported on CPU; using FP32 instead\n",
      "  warnings.warn(\"FP16 is not supported on CPU; using FP32 instead\")\n"
     ]
    }
   ],
   "source": [
    "result = model.transcribe(\"audio/2016.02.21_01.mp3\")"
   ]
  },
  {
   "cell_type": "code",
   "execution_count": 4,
   "metadata": {},
   "outputs": [
    {
     "name": "stdout",
     "output_type": "stream",
     "text": [
      " The text: \n",
      "  요렇게 홍서핀과 청소 재왕 홍서핀과 청소의 재왕 불거리와 목감아 돌리게 좋떡기를 가지고 있죠? 홍서핀과? 자 강략한 물이 치기입니다 비겨쳐보는 재왕? 홍서핀과 감아 돌립니다 홍서핀과 홍서핀과 홍서핀과 홍서핀과 홍서핀과 청소 재왕 재왕의 반격 감아 돌리는 재왕 여덟살에 동만내기지요 홍서핀과 자 목감아 돌리게 기술을 시도해 봤던 청소 재왕? 홍서핀과 자 일단 그리를 때받는데요 홍서재왕 청소 재왕 단발성 비겨치기 자 홍서핀과 물로 씁니다 자 홍서핀과 그렇게 13인 물로 씁니다 자 청소 재왕 홍서핀과 왼 볼 비겨치기 시대 보는 재왕? 홍서핀과 홍서핀과 홍서핀과 홍서핀과 자 견기장 중앙에에서 엄청난 물에 치기를 주고받고 있습니다 일라운드 견기회시간 얼마나 남지 않았습니다? 자 청소 재왕? 견기회 주도군을 잡았나요? 홍서핀과? 견기회 주도군을 잡았나요? 가만 돌리는 재왕? 자 엄청납니다 다시 물이 맞때곤 밀어버린 두 마리 삼소들? 홍서핀과? 청소 재왕? 자 이라운드로 접어들었습니다 자 여기서 청소핀과? 청소 재왕? 목구마 돌리기 기술을 시대 봄 담아만한 홍서핀과 잘 받아났습니다 자 두 마리 삼소들 이마에 붉은 비챌보이기 뛰고 있습니다 엄청난 총격을 받았죠 자 여기서 청소 재왕? 담발번에 공작 날라봅니다 자 여기서 빈거 물러섭니다 한발불러 섰는데요? 따라 들어가는 재왕? 자 여기서 Mike은 두번 하기로 바로 출발 motives\n"
     ]
    }
   ],
   "source": [
    "print(f' The text: \\n {result[\"text\"]}')"
   ]
  },
  {
   "cell_type": "code",
   "execution_count": 7,
   "metadata": {},
   "outputs": [
    {
     "name": "stdout",
     "output_type": "stream",
     "text": [
      " The text: \n",
      "  자 빙고 치고 갑니다 홍소 빙고 청소제왕 자 홍소 빙고 청소제왕 뿔거리와 목감아 돌리기의 주특결을 가지고 있죠 홍소 빙고 자 강력한 머리치기입니다 자 비껴 쳐보는 제왕 홍소 빙고 감아돌립니다 자 엄청난 단발선 공격인데요 홍소 빙고 자 밀고 들어가는 빙고 청소제왕 제왕의 반격 감아돌리는 제왕 8살의 동갑내기죠 자 목감아 돌리기 기술을 시도해 봤던 청소제왕 자 일단 거리를 떼봤는데요 홍소 제왕 빙고 청소제왕 단발선 빙고치기 자 홍소 빙고 물렀습니까 자 홍소 빙고 그렇게 10살이 물렀을 빙고가 아닌데요 자 청소제왕 왼불 빗게 치기 시대 보는 제왕 홍소 빙고 자 이 경기장 중앙에서 엄청난 머리치기를 주고받고 있습니다 1라운드 경기 시간 얼마 남지 않았습니다 자 청소제왕 경기의 주도꾼을 잡았나요 홍소 빙고 경기의 주도꾼을 잡았나요 감아돌리는 제왕 자 엄청납니다 다시 머리 맞대고 밀어보는 두 마리 삼소들 홍소의 빙고 청소제왕 자 2라운드로 접어들었습니다 자 여기서 청소 빙고 청소제왕 목꼬마 돌리기의 기술을 시대 봅니다만 홍소 빙고 잘 받아 냈습니다 자 두 마리 삼소들 이마에 붉은 빛을 보이고 있습니다 엄청난 충격을 받았죠 자 여기서 청소제왕 단발선 공격 날라봅니다 자 여기서 빙고 물러섭니다 한 마리 물러섰는데요 따라 들어가는 제왕 자 여기서 제1경기\n"
     ]
    }
   ],
   "source": [
    "print(f' The text: \\n {result[\"text\"]}')"
   ]
  },
  {
   "cell_type": "markdown",
   "metadata": {},
   "source": [
    "## hg. transformers"
   ]
  },
  {
   "cell_type": "code",
   "execution_count": 16,
   "metadata": {},
   "outputs": [
    {
     "name": "stderr",
     "output_type": "stream",
     "text": [
      "Device set to use mps\n"
     ]
    }
   ],
   "source": [
    "# pip install transformers torch\n",
    "\n",
    "import torch\n",
    "from transformers import pipeline"
   ]
  },
  {
   "cell_type": "markdown",
   "metadata": {},
   "source": [
    "### ++ test"
   ]
  },
  {
   "cell_type": "code",
   "execution_count": null,
   "metadata": {},
   "outputs": [],
   "source": [
    "whisper = pipeline(\n",
    "    \"automatic-speech-recognition\", \n",
    "    # \"openai/whisper-large-v3\", \n",
    "    # \"openai/whisper-large-v3-turbo\",\n",
    "    \"ghost613/whisper-large-v3-turbo-korean\",\n",
    "    torch_dtype=torch.float16, \n",
    "    device=\"mps\"\n",
    ")"
   ]
  },
  {
   "cell_type": "code",
   "execution_count": 10,
   "metadata": {},
   "outputs": [
    {
     "name": "stderr",
     "output_type": "stream",
     "text": [
      "/Users/salgu/Workspace/1_project/cow/.venv/lib/python3.12/site-packages/transformers/models/whisper/generation_whisper.py:573: FutureWarning: The input name `inputs` is deprecated. Please make sure to use `input_features` instead.\n",
      "  warnings.warn(\n",
      "Due to a bug fix in https://github.com/huggingface/transformers/pull/28687 transcription using a multilingual Whisper will default to language detection followed by transcription instead of translation to English.This might be a breaking change for your use case. If you want to instead always translate your audio to English, make sure to pass `language='en'`.\n"
     ]
    }
   ],
   "source": [
    "transcription = whisper(\n",
    "    \"audio/2016.02.21_01.mp3\",\n",
    "    return_timestamps=True\n",
    ")"
   ]
  },
  {
   "cell_type": "code",
   "execution_count": 11,
   "metadata": {},
   "outputs": [
    {
     "name": "stdout",
     "output_type": "stream",
     "text": [
      " 자 빙고 치러 갑니다. 홍서 빙고 청서 제왕 자 홍서 빙고 청소의 제왕 뿔거리와 목감아 돌리기의 주택기를 가지고 있죠 홍소빙고 자 강력한 머리치기입니다 비껴쳐보는 제왕 홍석빙고 가마 돌립니다 자 엄청난 단발성 공격인데요 홍석빙고 밀고 들어가는 빙고 청소 제왕 제왕의 반격 감아 돌리는 제왕 8살의 동갑내기지요 자 목감아 돌리기 기술을 시도해 봤던 청소재환 자 일단 그리를 떼봤는데요 홍소 제왕 빙고 청소 제왕 단발성 비껴치기 홍소 빙고 물러섭니까 자 홍섭 빙고 그렇게 쉽사리 물러설 빙고가 아닌데요 자 청서 제왕 왼불 비껴치기 시대보는 제왕 홍서빙고 자 이 경기장 중앙에서 엄청난 무리치기를 주고받고 있습니다 1라운드 경기시간 얼마 남지 않았습니다 자 청소 제왕 경기의 주도꾼을 잡았나요 홍소 빙고 경기의 주도꾼을 잡았나요 가만 돌리는 제왕 자 엄청납니다 다시 머리만 떼고 밀어버는 두 마리 삼소들 홍수의 빙고 청소의 제왕 자 2라운드로 접어들었습니다 자 여기서 청소 빙고 청소 제왕 목고마 돌리기의 기술을 시도해 봅니다만 홍수 빙고 잘 받아 냈습니다. 자 두 마리 삼소들 이마에 붉은 빛을 보이고 있습니다. 난 충격을 받았지요. 자 여기서 청소 제왕 단발성 공격 날라 봅니다. 자 여기서 빙고 물러섭니다. 한 번 물러섰는데요. 따라 들어가는 제왕 자 여기서 제1경기\n"
     ]
    }
   ],
   "source": [
    "print(transcription[\"text\"])"
   ]
  },
  {
   "cell_type": "markdown",
   "metadata": {},
   "source": [
    "### ++ whisper-large-v3-turbo"
   ]
  },
  {
   "cell_type": "code",
   "execution_count": 13,
   "metadata": {},
   "outputs": [
    {
     "name": "stderr",
     "output_type": "stream",
     "text": [
      "Python(18538) MallocStackLogging: can't turn off malloc stack logging because it was not enabled.\n",
      "/Users/salgu/Workspace/1_project/cow/.venv/lib/python3.12/site-packages/transformers/models/whisper/generation_whisper.py:573: FutureWarning: The input name `inputs` is deprecated. Please make sure to use `input_features` instead.\n",
      "  warnings.warn(\n"
     ]
    }
   ],
   "source": [
    "transcription = whisper(\n",
    "    \"audio/2016.02.21_01.mp3\",\n",
    "    return_timestamps=True\n",
    ")"
   ]
  },
  {
   "cell_type": "code",
   "execution_count": 14,
   "metadata": {},
   "outputs": [
    {
     "name": "stdout",
     "output_type": "stream",
     "text": [
      " 자 빙고 치료입니다 홍서 빙고 청서 제왕 자 홍서 빙고 청소의 제왕 뿔거리와 목감아 돌리게 주택기를 가지고 있죠 홍소 빙고 자 강력한 무리치기입니다 비껴쳐보는 제왕 홍소 빙고 가마 돌립니다 자 엄청난 단발선 공격인데요 홍소 빙고 밀고 들어가는 빙고 청소제왕 제왕의 반격 감아 돌리는 제왕 8살의 동갑내기죠 목감아 돌리기 기술을 시도해봤던 청소재환 자 일단 그리를 떼 봤는데요 홍소, 빙고 청소, 제왕 단발성, 비껴치기 홍소, 빙고 물러섭니까 홍소, 빙고 그렇게 쉽사리 물러설 빈고가 아닌데요 자 청소 제왕 왼불 비껴치기 시대 보는 제왕 홍서 빙고 자 이 경기장 중앙에서 엄청난 무리치기를 주고받고 있습니다 1라운드 경기시간 얼마 남지 않았습니다 청소제왕 경기의 주도권을 잡았나요? 홍소 빙고 경기의 주도권을 잡았나요? 가만 돌리는 제왕 엄청납니다 다시 머리 맞대고 밀어보는 두 마리 삼초들. 홍소의 빙고. 청소의 제왕. 2라운드로 접어들었습니다. 자 여기서 청소 빙고 청소제왕 목고마 돌리기의 기술을 시대봅니다만 홍소 빙고 잘 받아 냈습니다 두 마리 사움소들 이마에 붉은 빛을 보이게 뛰고 있습니다 엄청난 충격을 받았죠 자 여기서 청소 제왕 단발선 공격 날라봅니다. 자 여기서 빈곱 물러섭니다. 한발 물러섰는데요. 따라 들어가는 제왕. 자 여기서 제1경기\n"
     ]
    }
   ],
   "source": [
    "print(transcription[\"text\"])"
   ]
  },
  {
   "cell_type": "markdown",
   "metadata": {},
   "source": [
    "### ++ whisper-large-v3-turbo-korean"
   ]
  },
  {
   "cell_type": "code",
   "execution_count": 2,
   "metadata": {},
   "outputs": [],
   "source": [
    "import torch\n",
    "from transformers import pipeline"
   ]
  },
  {
   "cell_type": "code",
   "execution_count": 11,
   "metadata": {},
   "outputs": [],
   "source": [
    "# model_name = \"ghost613/whisper-large-v3-turbo-korean\"\n",
    "model_name = \"imTak/whisper_large_v3_turbo_Korean2\""
   ]
  },
  {
   "cell_type": "code",
   "execution_count": 12,
   "metadata": {},
   "outputs": [
    {
     "data": {
      "application/vnd.jupyter.widget-view+json": {
       "model_id": "40d9bff243ab4248a6c1bd449f38910d",
       "version_major": 2,
       "version_minor": 0
      },
      "text/plain": [
       "config.json:   0%|          | 0.00/1.25k [00:00<?, ?B/s]"
      ]
     },
     "metadata": {},
     "output_type": "display_data"
    },
    {
     "data": {
      "application/vnd.jupyter.widget-view+json": {
       "model_id": "d3d73fba79b745dc8e984e5ef58f4822",
       "version_major": 2,
       "version_minor": 0
      },
      "text/plain": [
       "model.safetensors:   0%|          | 0.00/3.24G [00:00<?, ?B/s]"
      ]
     },
     "metadata": {},
     "output_type": "display_data"
    },
    {
     "data": {
      "application/vnd.jupyter.widget-view+json": {
       "model_id": "9e9a979aaafb4bee9591ac070caf812c",
       "version_major": 2,
       "version_minor": 0
      },
      "text/plain": [
       "generation_config.json:   0%|          | 0.00/3.71k [00:00<?, ?B/s]"
      ]
     },
     "metadata": {},
     "output_type": "display_data"
    },
    {
     "data": {
      "application/vnd.jupyter.widget-view+json": {
       "model_id": "ee7f000e640543dcaa9c30aeea454a49",
       "version_major": 2,
       "version_minor": 0
      },
      "text/plain": [
       "tokenizer_config.json:   0%|          | 0.00/283k [00:00<?, ?B/s]"
      ]
     },
     "metadata": {},
     "output_type": "display_data"
    },
    {
     "data": {
      "application/vnd.jupyter.widget-view+json": {
       "model_id": "6d19da4e0f26436f81e2966e4d59d698",
       "version_major": 2,
       "version_minor": 0
      },
      "text/plain": [
       "vocab.json:   0%|          | 0.00/1.04M [00:00<?, ?B/s]"
      ]
     },
     "metadata": {},
     "output_type": "display_data"
    },
    {
     "data": {
      "application/vnd.jupyter.widget-view+json": {
       "model_id": "eca9d71043c147ebb0e34c1fb160b827",
       "version_major": 2,
       "version_minor": 0
      },
      "text/plain": [
       "tokenizer.json:   0%|          | 0.00/2.71M [00:00<?, ?B/s]"
      ]
     },
     "metadata": {},
     "output_type": "display_data"
    },
    {
     "data": {
      "application/vnd.jupyter.widget-view+json": {
       "model_id": "2829209f1aa84c0aafc37402db366ffb",
       "version_major": 2,
       "version_minor": 0
      },
      "text/plain": [
       "merges.txt:   0%|          | 0.00/494k [00:00<?, ?B/s]"
      ]
     },
     "metadata": {},
     "output_type": "display_data"
    },
    {
     "data": {
      "application/vnd.jupyter.widget-view+json": {
       "model_id": "36ca3dad5a084018b028120d2c09102e",
       "version_major": 2,
       "version_minor": 0
      },
      "text/plain": [
       "normalizer.json:   0%|          | 0.00/52.7k [00:00<?, ?B/s]"
      ]
     },
     "metadata": {},
     "output_type": "display_data"
    },
    {
     "data": {
      "application/vnd.jupyter.widget-view+json": {
       "model_id": "4129e8e2a7c1414dbc001e793ca4dab1",
       "version_major": 2,
       "version_minor": 0
      },
      "text/plain": [
       "added_tokens.json:   0%|          | 0.00/34.6k [00:00<?, ?B/s]"
      ]
     },
     "metadata": {},
     "output_type": "display_data"
    },
    {
     "data": {
      "application/vnd.jupyter.widget-view+json": {
       "model_id": "d2476586b59e43d18b5c63f44e023325",
       "version_major": 2,
       "version_minor": 0
      },
      "text/plain": [
       "special_tokens_map.json:   0%|          | 0.00/2.19k [00:00<?, ?B/s]"
      ]
     },
     "metadata": {},
     "output_type": "display_data"
    },
    {
     "data": {
      "application/vnd.jupyter.widget-view+json": {
       "model_id": "60714a71c5cf4852a0035de04de8bf58",
       "version_major": 2,
       "version_minor": 0
      },
      "text/plain": [
       "preprocessor_config.json:   0%|          | 0.00/340 [00:00<?, ?B/s]"
      ]
     },
     "metadata": {},
     "output_type": "display_data"
    },
    {
     "name": "stderr",
     "output_type": "stream",
     "text": [
      "Device set to use mps\n"
     ]
    }
   ],
   "source": [
    "model = pipeline(\n",
    "    \"automatic-speech-recognition\", \n",
    "    model=model_name,\n",
    "    torch_dtype=torch.float16, \n",
    "    device=\"mps\"\n",
    ")"
   ]
  },
  {
   "cell_type": "code",
   "execution_count": 14,
   "metadata": {},
   "outputs": [
    {
     "name": "stderr",
     "output_type": "stream",
     "text": [
      "Python(83623) MallocStackLogging: can't turn off malloc stack logging because it was not enabled.\n",
      "/Users/salgu/Workspace/1_project/cow/.venv/lib/python3.12/site-packages/transformers/models/whisper/generation_whisper.py:573: FutureWarning: The input name `inputs` is deprecated. Please make sure to use `input_features` instead.\n",
      "  warnings.warn(\n",
      "Whisper did not predict an ending timestamp, which can happen if audio is cut off in the middle of a word. Also make sure WhisperTimeStampLogitsProcessor was used during generation.\n"
     ]
    }
   ],
   "source": [
    "transcription = model(\n",
    "    \"audio/2016.02.21_01.mp3\",\n",
    "    return_timestamps=True\n",
    "    # generate_kwargs={\"language\":\"korean\",\"task\":\"transcribe\"}\n",
    ")"
   ]
  },
  {
   "cell_type": "code",
   "execution_count": 15,
   "metadata": {},
   "outputs": [
    {
     "name": "stdout",
     "output_type": "stream",
     "text": [
      "자 빈고 치고 갑니다정서의 제왕 불그리와 목감아 돌리게 주택귀를 가지고 있지요 홍서 빈고 자 강력한 물이 튀긴다비껴 처분은 제왕공서 빈고 가마 돌립니다엄청난 단발성 공격인데요 공서 빈고자 밀고 들어가는 빈곽 정서 제왕 제왕의 반격 가마 돌리는 제왕 여덟 살의 동갑내기지요자 목 까마 돌리기 기술을 시도해 봤던 청사제왕자 일단 그릴을 떼봤는데요 홍서제왕 빙고청소제왕 단발성 비껴치기 홍소 빈고 물러섭니까 홍소 빈고 그렇게 십사리 물러설 빈고가 아닌데요자 청서 제왕 왼불 빗겨치기 시대 보는 제왕 홍서 빈고자 일 경기장 중앙위에서 엄청난 무리치기를 주고받고 있습니다 일 라운드 경기 시간 얼마 남지 않았습니다청서 제왕 경기에 주도권을 잡았나요 홍서 빙고 경기에 주도권을 잡았나요 가마 돌리는 제왕 엄청납니다다시 머리만 떼고 밀어받은 두 마리 삼 소들 황소에 빈고 청소에 제왕자 이 라운드로 접어들었습니다자 여기서 청소 빈고 청소 제왕 목구마 돌리게 기술을 실시해 봅니다마는 홍소 빈고 잘 받아 내었습니다자 두 마리 사무소들 이마에 붉은 빛을 보이게 뛰고 있습니다 엄청난 충격을 받았지요자 여기서 청소 제왕 단발선 공격 날아봅니다자 여기서 빈곤 물러섭니다 한 마맛 물러섰는데요 따라 들어가는 제왕 자 여기서제 일 경기\n"
     ]
    }
   ],
   "source": [
    "print(transcription[\"text\"])"
   ]
  },
  {
   "cell_type": "markdown",
   "metadata": {},
   "source": [
    "### ++ whisper-medium"
   ]
  },
  {
   "cell_type": "code",
   "execution_count": 16,
   "metadata": {},
   "outputs": [],
   "source": [
    "model_name = \"openai/whisper-medium\""
   ]
  },
  {
   "cell_type": "code",
   "execution_count": 17,
   "metadata": {},
   "outputs": [
    {
     "data": {
      "application/vnd.jupyter.widget-view+json": {
       "model_id": "72f52ce0982c42f6b96042f23a8017c5",
       "version_major": 2,
       "version_minor": 0
      },
      "text/plain": [
       "config.json:   0%|          | 0.00/1.99k [00:00<?, ?B/s]"
      ]
     },
     "metadata": {},
     "output_type": "display_data"
    },
    {
     "data": {
      "application/vnd.jupyter.widget-view+json": {
       "model_id": "3a24436d46f74a55b0f7ea5fca32ffec",
       "version_major": 2,
       "version_minor": 0
      },
      "text/plain": [
       "model.safetensors:   0%|          | 0.00/3.06G [00:00<?, ?B/s]"
      ]
     },
     "metadata": {},
     "output_type": "display_data"
    },
    {
     "data": {
      "application/vnd.jupyter.widget-view+json": {
       "model_id": "39927887f9144ed1a2c1851195d24c40",
       "version_major": 2,
       "version_minor": 0
      },
      "text/plain": [
       "generation_config.json:   0%|          | 0.00/3.75k [00:00<?, ?B/s]"
      ]
     },
     "metadata": {},
     "output_type": "display_data"
    },
    {
     "data": {
      "application/vnd.jupyter.widget-view+json": {
       "model_id": "22864093303e49239c10f32b2c2198a9",
       "version_major": 2,
       "version_minor": 0
      },
      "text/plain": [
       "tokenizer_config.json:   0%|          | 0.00/283k [00:00<?, ?B/s]"
      ]
     },
     "metadata": {},
     "output_type": "display_data"
    },
    {
     "data": {
      "application/vnd.jupyter.widget-view+json": {
       "model_id": "f086261b9c2e4dda94cecc191d9f52f3",
       "version_major": 2,
       "version_minor": 0
      },
      "text/plain": [
       "vocab.json:   0%|          | 0.00/836k [00:00<?, ?B/s]"
      ]
     },
     "metadata": {},
     "output_type": "display_data"
    },
    {
     "data": {
      "application/vnd.jupyter.widget-view+json": {
       "model_id": "011274cc40ce4cd6a8277770a1ac97af",
       "version_major": 2,
       "version_minor": 0
      },
      "text/plain": [
       "tokenizer.json:   0%|          | 0.00/2.48M [00:00<?, ?B/s]"
      ]
     },
     "metadata": {},
     "output_type": "display_data"
    },
    {
     "data": {
      "application/vnd.jupyter.widget-view+json": {
       "model_id": "104b91fc238b424f8eef508e64f9f4c8",
       "version_major": 2,
       "version_minor": 0
      },
      "text/plain": [
       "merges.txt:   0%|          | 0.00/494k [00:00<?, ?B/s]"
      ]
     },
     "metadata": {},
     "output_type": "display_data"
    },
    {
     "data": {
      "application/vnd.jupyter.widget-view+json": {
       "model_id": "d5435e0d25ae4ae78ac8c87b624fc264",
       "version_major": 2,
       "version_minor": 0
      },
      "text/plain": [
       "normalizer.json:   0%|          | 0.00/52.7k [00:00<?, ?B/s]"
      ]
     },
     "metadata": {},
     "output_type": "display_data"
    },
    {
     "data": {
      "application/vnd.jupyter.widget-view+json": {
       "model_id": "a71a896844234e8b8e50dad6ab2c9815",
       "version_major": 2,
       "version_minor": 0
      },
      "text/plain": [
       "added_tokens.json:   0%|          | 0.00/34.6k [00:00<?, ?B/s]"
      ]
     },
     "metadata": {},
     "output_type": "display_data"
    },
    {
     "data": {
      "application/vnd.jupyter.widget-view+json": {
       "model_id": "2c8a3d9699fc45b69789185d8c29d4ca",
       "version_major": 2,
       "version_minor": 0
      },
      "text/plain": [
       "special_tokens_map.json:   0%|          | 0.00/2.19k [00:00<?, ?B/s]"
      ]
     },
     "metadata": {},
     "output_type": "display_data"
    },
    {
     "data": {
      "application/vnd.jupyter.widget-view+json": {
       "model_id": "ba84f071e9a64c43af6743eb548cdf93",
       "version_major": 2,
       "version_minor": 0
      },
      "text/plain": [
       "preprocessor_config.json:   0%|          | 0.00/185k [00:00<?, ?B/s]"
      ]
     },
     "metadata": {},
     "output_type": "display_data"
    },
    {
     "name": "stderr",
     "output_type": "stream",
     "text": [
      "Device set to use mps\n"
     ]
    }
   ],
   "source": [
    "model = pipeline(\n",
    "    \"automatic-speech-recognition\", \n",
    "    model=model_name,\n",
    "    torch_dtype=torch.float16, \n",
    "    device=\"mps\"\n",
    ")"
   ]
  },
  {
   "cell_type": "code",
   "execution_count": 18,
   "metadata": {},
   "outputs": [
    {
     "name": "stderr",
     "output_type": "stream",
     "text": [
      "Python(12040) MallocStackLogging: can't turn off malloc stack logging because it was not enabled.\n",
      "/Users/salgu/Workspace/1_project/cow/.venv/lib/python3.12/site-packages/transformers/models/whisper/generation_whisper.py:573: FutureWarning: The input name `inputs` is deprecated. Please make sure to use `input_features` instead.\n",
      "  warnings.warn(\n",
      "Due to a bug fix in https://github.com/huggingface/transformers/pull/28687 transcription using a multilingual Whisper will default to language detection followed by transcription instead of translation to English.This might be a breaking change for your use case. If you want to instead always translate your audio to English, make sure to pass `language='en'`.\n",
      "Whisper did not predict an ending timestamp, which can happen if audio is cut off in the middle of a word. Also make sure WhisperTimeStampLogitsProcessor was used during generation.\n"
     ]
    }
   ],
   "source": [
    "transcription = model(\n",
    "    \"audio/2016.02.21_01.mp3\",\n",
    "    return_timestamps=True\n",
    ")"
   ]
  },
  {
   "cell_type": "code",
   "execution_count": 19,
   "metadata": {},
   "outputs": [
    {
     "name": "stdout",
     "output_type": "stream",
     "text": [
      " 자 빙고 치고 갑니다 홍소 빙고 청소제왕 홍소 빙고 청소제왕 뿔거리와 목 감아 돌리기의 주특기를 가지고 있죠 홍소 빙고 강력한 머리치기입니다 비껴쳐보는 제왕 홍소 빙고 가마 돌립니다 자 엄청난 단발선 공격인데요 홍소 빙고 자 밀고 들어가는 빙고 청소제왕 제왕의 반격 감아돌리는 제왕 8살에 동갑내기죠 자 목감아 돌리기 기술을 시도해 봤던 청소재환 자 일단 거리를 떼봤는데요 홍소제왕 빙고 자 청소제왕 단발성 빗겨치기 자 홍소 빙고 물렀습니까? 자 홍소 빙고 그렇게 쉽사리 물렀을 빙고가 아닌데요 자 청소제왕 왼불 빗개치기 시대 보는 제왕 홍소 빙고 자 이 경기장 중앙에서 엄청난 머리치기를 주고받고 있습니다 1라운드 경기 시간 얼마 남지 않았습니다 청소제왕 경기의 주도권을 잡았나요? 홍소 빙고 경기의 주도권을 잡았나요? 돌리는 제왕 자 엄청납니다 다시 머리 맞대고 밀어보는 두 마리 삼소들 홍소의 빙고, 청소의 재왕 자, 2라운드로 접어들었습니다 자, 여기서 청소 빙고, 청소 재왕 목꼬마 돌리기의 기술을 시대 봅니다만 홍소 빙고 잘 받아 냈습니다 자 두 마리 사업소들 이마에 붉은 빛을 보이고 있습니다 엄청난 충격을 받았죠 자 여기서 청소제왕 단발선 공격 날라봅니다 자 여기서 빙고 물러섭니다 한번불러섰는데요 따라 들어가는 제왕 자 여기서 제 1경기\n"
     ]
    }
   ],
   "source": [
    "print(transcription[\"text\"])"
   ]
  },
  {
   "cell_type": "markdown",
   "metadata": {},
   "source": [
    "### ++ whisper-base"
   ]
  },
  {
   "cell_type": "code",
   "execution_count": 20,
   "metadata": {},
   "outputs": [],
   "source": [
    "model_name = \"openai/whisper-base\""
   ]
  },
  {
   "cell_type": "code",
   "execution_count": 21,
   "metadata": {},
   "outputs": [
    {
     "data": {
      "application/vnd.jupyter.widget-view+json": {
       "model_id": "cdfbfde4950347b985a243704c5fa05b",
       "version_major": 2,
       "version_minor": 0
      },
      "text/plain": [
       "config.json:   0%|          | 0.00/1.98k [00:00<?, ?B/s]"
      ]
     },
     "metadata": {},
     "output_type": "display_data"
    },
    {
     "data": {
      "application/vnd.jupyter.widget-view+json": {
       "model_id": "5bff514f42ea4eb6af10e1f3146487e2",
       "version_major": 2,
       "version_minor": 0
      },
      "text/plain": [
       "model.safetensors:   0%|          | 0.00/290M [00:00<?, ?B/s]"
      ]
     },
     "metadata": {},
     "output_type": "display_data"
    },
    {
     "data": {
      "application/vnd.jupyter.widget-view+json": {
       "model_id": "72f67c98ca60441ea72ae09af28c7299",
       "version_major": 2,
       "version_minor": 0
      },
      "text/plain": [
       "tokenizer_config.json:   0%|          | 0.00/283k [00:00<?, ?B/s]"
      ]
     },
     "metadata": {},
     "output_type": "display_data"
    },
    {
     "data": {
      "application/vnd.jupyter.widget-view+json": {
       "model_id": "56600907d081489799b11ddca1e34899",
       "version_major": 2,
       "version_minor": 0
      },
      "text/plain": [
       "vocab.json:   0%|          | 0.00/836k [00:00<?, ?B/s]"
      ]
     },
     "metadata": {},
     "output_type": "display_data"
    },
    {
     "data": {
      "application/vnd.jupyter.widget-view+json": {
       "model_id": "dbeeae32cd714defb227b2aac8969ebb",
       "version_major": 2,
       "version_minor": 0
      },
      "text/plain": [
       "tokenizer.json:   0%|          | 0.00/2.48M [00:00<?, ?B/s]"
      ]
     },
     "metadata": {},
     "output_type": "display_data"
    },
    {
     "data": {
      "application/vnd.jupyter.widget-view+json": {
       "model_id": "fd350d53d54f4ad5af3b4ad20279c350",
       "version_major": 2,
       "version_minor": 0
      },
      "text/plain": [
       "merges.txt:   0%|          | 0.00/494k [00:00<?, ?B/s]"
      ]
     },
     "metadata": {},
     "output_type": "display_data"
    },
    {
     "data": {
      "application/vnd.jupyter.widget-view+json": {
       "model_id": "54de462b1148430ca059cf0a3c1739bf",
       "version_major": 2,
       "version_minor": 0
      },
      "text/plain": [
       "normalizer.json:   0%|          | 0.00/52.7k [00:00<?, ?B/s]"
      ]
     },
     "metadata": {},
     "output_type": "display_data"
    },
    {
     "data": {
      "application/vnd.jupyter.widget-view+json": {
       "model_id": "575bd41eb43b48eaaf3d9ebc54072127",
       "version_major": 2,
       "version_minor": 0
      },
      "text/plain": [
       "added_tokens.json:   0%|          | 0.00/34.6k [00:00<?, ?B/s]"
      ]
     },
     "metadata": {},
     "output_type": "display_data"
    },
    {
     "data": {
      "application/vnd.jupyter.widget-view+json": {
       "model_id": "e3610508a8f146e7b3f03ca54c624796",
       "version_major": 2,
       "version_minor": 0
      },
      "text/plain": [
       "special_tokens_map.json:   0%|          | 0.00/2.19k [00:00<?, ?B/s]"
      ]
     },
     "metadata": {},
     "output_type": "display_data"
    },
    {
     "data": {
      "application/vnd.jupyter.widget-view+json": {
       "model_id": "15be93dfbf5043e48b6bc547eef20cab",
       "version_major": 2,
       "version_minor": 0
      },
      "text/plain": [
       "preprocessor_config.json:   0%|          | 0.00/185k [00:00<?, ?B/s]"
      ]
     },
     "metadata": {},
     "output_type": "display_data"
    },
    {
     "name": "stderr",
     "output_type": "stream",
     "text": [
      "Device set to use mps\n"
     ]
    }
   ],
   "source": [
    "model = pipeline(\n",
    "    \"automatic-speech-recognition\", \n",
    "    model=model_name,\n",
    "    torch_dtype=torch.float16, \n",
    "    device=\"mps\"\n",
    ")"
   ]
  },
  {
   "cell_type": "code",
   "execution_count": 22,
   "metadata": {},
   "outputs": [
    {
     "name": "stderr",
     "output_type": "stream",
     "text": [
      "Python(69887) MallocStackLogging: can't turn off malloc stack logging because it was not enabled.\n",
      "/Users/salgu/Workspace/1_project/cow/.venv/lib/python3.12/site-packages/transformers/models/whisper/generation_whisper.py:573: FutureWarning: The input name `inputs` is deprecated. Please make sure to use `input_features` instead.\n",
      "  warnings.warn(\n"
     ]
    }
   ],
   "source": [
    "transcription = model(\n",
    "    \"audio/2016.02.21_01.mp3\",\n",
    "    return_timestamps=True\n",
    ")"
   ]
  },
  {
   "cell_type": "code",
   "execution_count": 23,
   "metadata": {},
   "outputs": [
    {
     "name": "stdout",
     "output_type": "stream",
     "text": [
      " 이 홍서 빙고 자 청소 재왕 자 홍서 빈거? 정서의 재왕 볼륨과 목감아 돌리게 좋떡기를 가지고 있죠? 홍서 빈거? 자 강략한 무리치기입니다. 비결쳐보는 재왕. 홍서 빈거 가만 덜입니다. 자 엄청난 단발성공기인데요. 홍서 빈거 자, 밀고 들어가는 빈거 청소 재왕 재왕의 반격 가만 돌리는 재왕 여덟 살의 동만내기죠? 자, 목감아 돌리기 기술을 시도해 봤던 청소 재원? 자 일단 그리를 떼 봤는데요. 자 일단 그리를 때받는데요. 홍서 재왕, 빙고, 자 청서 재왕, 단발성 비계치기 자 홍서 빙고 물로 씁니다 자 홍서 빙고 그렇게 13인 물로설빙고가 아닌데요. 자, 청소 재왕. 왼 볼 비켓치기시대 보는 재왕. 홍서 빈거 홍서 빈거 잘 경기장 중앙에에서 엄청난 물에 치기를 주고받고 있습니다 일라운드 경기의 시간은 얼마 남지 않았습니다 자, 청소 재왕. 경기의 주도군을 잡았나요? 홍소 빙고 경기의 주도군을 잡았나요? 가만, 돌리는 재왕? 자, 엄청 납니다. 다시 물이 맞때건 밀어보는 두 마리 삼소들 홍서의 빈고, 청소의 재왕 자 이라운드로 접어들었습니다 자, 여기서 청소 빈거 청소 재왕 목구마 돌리게 기술을 시대 범담한 홍소 빈거 잘 받아났습니다 자, 두 마리 사움소들 이마에 붉은 빛을 보이게 띠고 있습니다 엄청난 총격을 받았죠. 잘 여기서 청소 재황. 담발방성 공직 날라봅니다. 자 여기서 민궈물러 씁니다. 한 마말물러 샀는데요. 따라가나는 재왕. 자 여기서 자, 1경기\n"
     ]
    }
   ],
   "source": [
    "print(transcription[\"text\"])"
   ]
  },
  {
   "cell_type": "markdown",
   "metadata": {},
   "source": [
    "### ++ whisper-tiny"
   ]
  },
  {
   "cell_type": "code",
   "execution_count": 24,
   "metadata": {},
   "outputs": [],
   "source": [
    "model_name = \"openai/whisper-tiny\""
   ]
  },
  {
   "cell_type": "code",
   "execution_count": 25,
   "metadata": {},
   "outputs": [
    {
     "data": {
      "application/vnd.jupyter.widget-view+json": {
       "model_id": "e3a4da7528104a23995c373e3d63cb0a",
       "version_major": 2,
       "version_minor": 0
      },
      "text/plain": [
       "config.json:   0%|          | 0.00/1.98k [00:00<?, ?B/s]"
      ]
     },
     "metadata": {},
     "output_type": "display_data"
    },
    {
     "data": {
      "application/vnd.jupyter.widget-view+json": {
       "model_id": "abb18e42cdda4d938bb298b94a38a43b",
       "version_major": 2,
       "version_minor": 0
      },
      "text/plain": [
       "model.safetensors:   0%|          | 0.00/151M [00:00<?, ?B/s]"
      ]
     },
     "metadata": {},
     "output_type": "display_data"
    },
    {
     "data": {
      "application/vnd.jupyter.widget-view+json": {
       "model_id": "99d90d8436364721a5f0aff99bbe4910",
       "version_major": 2,
       "version_minor": 0
      },
      "text/plain": [
       "generation_config.json:   0%|          | 0.00/3.75k [00:00<?, ?B/s]"
      ]
     },
     "metadata": {},
     "output_type": "display_data"
    },
    {
     "data": {
      "application/vnd.jupyter.widget-view+json": {
       "model_id": "62bca1e9020340ab8387156ac971136b",
       "version_major": 2,
       "version_minor": 0
      },
      "text/plain": [
       "tokenizer_config.json:   0%|          | 0.00/283k [00:00<?, ?B/s]"
      ]
     },
     "metadata": {},
     "output_type": "display_data"
    },
    {
     "data": {
      "application/vnd.jupyter.widget-view+json": {
       "model_id": "7fa96975aeff414cad90cea419dd1bc3",
       "version_major": 2,
       "version_minor": 0
      },
      "text/plain": [
       "vocab.json:   0%|          | 0.00/836k [00:00<?, ?B/s]"
      ]
     },
     "metadata": {},
     "output_type": "display_data"
    },
    {
     "data": {
      "application/vnd.jupyter.widget-view+json": {
       "model_id": "3b51afcac2d84d7393ec7e23a893c9dd",
       "version_major": 2,
       "version_minor": 0
      },
      "text/plain": [
       "tokenizer.json:   0%|          | 0.00/2.48M [00:00<?, ?B/s]"
      ]
     },
     "metadata": {},
     "output_type": "display_data"
    },
    {
     "data": {
      "application/vnd.jupyter.widget-view+json": {
       "model_id": "2f8df69de8e241e7b619e326e79e5627",
       "version_major": 2,
       "version_minor": 0
      },
      "text/plain": [
       "merges.txt:   0%|          | 0.00/494k [00:00<?, ?B/s]"
      ]
     },
     "metadata": {},
     "output_type": "display_data"
    },
    {
     "data": {
      "application/vnd.jupyter.widget-view+json": {
       "model_id": "a6e93e92f1b5435baf3fc4e4196d58ff",
       "version_major": 2,
       "version_minor": 0
      },
      "text/plain": [
       "normalizer.json:   0%|          | 0.00/52.7k [00:00<?, ?B/s]"
      ]
     },
     "metadata": {},
     "output_type": "display_data"
    },
    {
     "data": {
      "application/vnd.jupyter.widget-view+json": {
       "model_id": "b328df5bf627423a962488a59a6c7d61",
       "version_major": 2,
       "version_minor": 0
      },
      "text/plain": [
       "added_tokens.json:   0%|          | 0.00/34.6k [00:00<?, ?B/s]"
      ]
     },
     "metadata": {},
     "output_type": "display_data"
    },
    {
     "data": {
      "application/vnd.jupyter.widget-view+json": {
       "model_id": "4edfde50925148f2bd1836104afb99d0",
       "version_major": 2,
       "version_minor": 0
      },
      "text/plain": [
       "special_tokens_map.json:   0%|          | 0.00/2.19k [00:00<?, ?B/s]"
      ]
     },
     "metadata": {},
     "output_type": "display_data"
    },
    {
     "data": {
      "application/vnd.jupyter.widget-view+json": {
       "model_id": "daeab064e5f74fcfafc3115c494bb8d3",
       "version_major": 2,
       "version_minor": 0
      },
      "text/plain": [
       "preprocessor_config.json:   0%|          | 0.00/185k [00:00<?, ?B/s]"
      ]
     },
     "metadata": {},
     "output_type": "display_data"
    },
    {
     "name": "stderr",
     "output_type": "stream",
     "text": [
      "Device set to use mps\n"
     ]
    }
   ],
   "source": [
    "model = pipeline(\n",
    "    \"automatic-speech-recognition\", \n",
    "    model=model_name,\n",
    "    torch_dtype=torch.float16, \n",
    "    device=\"mps\"\n",
    ")"
   ]
  },
  {
   "cell_type": "code",
   "execution_count": 26,
   "metadata": {},
   "outputs": [
    {
     "name": "stderr",
     "output_type": "stream",
     "text": [
      "Python(79735) MallocStackLogging: can't turn off malloc stack logging because it was not enabled.\n",
      "/Users/salgu/Workspace/1_project/cow/.venv/lib/python3.12/site-packages/transformers/models/whisper/generation_whisper.py:573: FutureWarning: The input name `inputs` is deprecated. Please make sure to use `input_features` instead.\n",
      "  warnings.warn(\n",
      "Whisper did not predict an ending timestamp, which can happen if audio is cut off in the middle of a word. Also make sure WhisperTimeStampLogitsProcessor was used during generation.\n"
     ]
    }
   ],
   "source": [
    "transcription = model(\n",
    "    \"audio/2016.02.21_01.mp3\",\n",
    "    return_timestamps=True\n",
    ")"
   ]
  },
  {
   "cell_type": "code",
   "execution_count": 27,
   "metadata": {},
   "outputs": [
    {
     "name": "stdout",
     "output_type": "stream",
     "text": [
      " 자 빈거치워봅니다. 홍서 빈거. 자, 홍서 빈거. 자, 홍서핑거? 경서야 재왕? 목까만돌리게 좋던 길을 가지고 있지요. 홍서 비인거? 강약한 물이 치깁다. 비겨쳐버난 개방. 자, 엄청난 탑발성공이 있네요. 홍서 빈거? 자, 미는 것들가 난 빈거? 홍서 빈거 잡미를 것들과는 빈거 정서재완 재완의 반격 가마토리는 재완 여전히 살해 동만내기지요 자, 먹가만 돌리기 기술을 시도해봤던 청소재원 다음은. 자 일단 그릴 때 받는데요. 홍서 제 왕 빈거. 자 청소 제 왕. 단발방성 비결치지. 자 이 홍서 빈거는 못하니까. 자, 홍석핑크어? 그렇게 14인 불러설린 브브보가 아닌데요? 자, 참석재왕? 외모는 제왕. 외모는 제왕. 홍서 빈거. 잘 경기장 중앙에서. 엄청난 물에 치기를 조합했고 있습니다. 1라운드 기현 계시간 알만함이 안 왔습니다. 자, 청소재왕. 기현 계추독군을 자반 나요. 홍석, 빈거. 기현 계추독군을 자반 나요. 가만 더 내란 재왕. 자 엄청납니다. 다시 머리맞대곱 밀러버는 두 마리 3소널로. 홍세에 빈거. 청소에 제왕. 자, 이라운드로 접어들었습니다. 자, 여기서 정서핑크, 정서재원. 먹검아 돌리게 기술을 시대 범담하는 홍서핑크 잘 받아냈습니다. 자, 또 말에 3소널리마에 불건 비찰보기있기, 뛰고 있습니다. 엄청난 총격을 받았죠. 잘 익으셔서 청소재원 단발성 공격 날라봅니다. 자 여기서 빙고 물러왔습니다. 한 번 물러왔는데요 따라 들어가는 재왕. 자 여기서. 아! K1G\n"
     ]
    }
   ],
   "source": [
    "print(transcription[\"text\"])"
   ]
  }
 ],
 "metadata": {
  "kernelspec": {
   "display_name": ".venv",
   "language": "python",
   "name": "python3"
  },
  "language_info": {
   "codemirror_mode": {
    "name": "ipython",
    "version": 3
   },
   "file_extension": ".py",
   "mimetype": "text/x-python",
   "name": "python",
   "nbconvert_exporter": "python",
   "pygments_lexer": "ipython3",
   "version": "3.12.5"
  }
 },
 "nbformat": 4,
 "nbformat_minor": 2
}
