{
 "cells": [
  {
   "cell_type": "code",
   "execution_count": 1,
   "metadata": {},
   "outputs": [],
   "source": [
    "import warnings\n",
    "\n",
    "# Suppress all warnings\n",
    "warnings.filterwarnings(\"ignore\")"
   ]
  },
  {
   "cell_type": "markdown",
   "metadata": {},
   "source": [
    "## Model"
   ]
  },
  {
   "cell_type": "code",
   "execution_count": 2,
   "metadata": {},
   "outputs": [
    {
     "name": "stderr",
     "output_type": "stream",
     "text": [
      "Device set to use mps\n"
     ]
    }
   ],
   "source": [
    "import torch\n",
    "from transformers import pipeline\n",
    "\n",
    "model_name = \"openai/whisper-medium\"\n",
    "\n",
    "model = pipeline(\n",
    "    \"automatic-speech-recognition\", \n",
    "    model=model_name,\n",
    "    torch_dtype=torch.float16, \n",
    "    device=\"mps\"\n",
    ")"
   ]
  },
  {
   "cell_type": "markdown",
   "metadata": {},
   "source": [
    "## Files"
   ]
  },
  {
   "cell_type": "code",
   "execution_count": 3,
   "metadata": {},
   "outputs": [],
   "source": [
    "from tqdm.notebook import tqdm\n",
    "\n",
    "import importlib\n",
    "import pandas as pd\n",
    "import get_files as gf"
   ]
  },
  {
   "cell_type": "code",
   "execution_count": 52,
   "metadata": {},
   "outputs": [
    {
     "data": {
      "text/plain": [
       "<module 'get_files' from '/Users/salgu/Workspace/1_project/cow/get_files.py'>"
      ]
     },
     "execution_count": 52,
     "metadata": {},
     "output_type": "execute_result"
    }
   ],
   "source": [
    "importlib.reload(gf)"
   ]
  },
  {
   "cell_type": "code",
   "execution_count": 53,
   "metadata": {},
   "outputs": [],
   "source": [
    "directory_path = \"./audio\"\n",
    "extensions_to_find = ['.mp3']\n",
    "\n",
    "grouped_files = gf.get_files_grouped_by_first_subdirectory(\n",
    "    directory_path, \n",
    "    extensions_to_find\n",
    ")"
   ]
  },
  {
   "cell_type": "code",
   "execution_count": null,
   "metadata": {},
   "outputs": [
    {
     "name": "stdout",
     "output_type": "stream",
     "text": [
      "Directory: 2024 - Files: 4\n",
      "Files: ['./audio/2024/2024-01/2024.02.21_01_test.mp3', './audio/2024/2024-01/2024.02.21_02_test.mp3', './audio/2024/2024-02/2024.02.21_01_test.mp3', './audio/2024/2024-02/2024.02.21_02_test.mp3']\n",
      "Directory: 2023 - Files: 2\n",
      "Files: ['./audio/2023/2023.02.21_01_test.mp3', './audio/2023/2023.02.21_02_test.mp3']\n",
      "Directory: 2022 - Files: 2\n",
      "Files: ['./audio/2022/2022.02.21_01_test.mp3', './audio/2022/2022.02.21_02_test.mp3']\n"
     ]
    }
   ],
   "source": [
    "# for dir, files in grouped_files.items():\n",
    "#     print(f\"Directory: {dir} - Files: {len(files)}\")\n",
    "#     print(f\"Files: {files}\")"
   ]
  },
  {
   "cell_type": "markdown",
   "metadata": {},
   "source": [
    "## Process"
   ]
  },
  {
   "cell_type": "code",
   "execution_count": null,
   "metadata": {},
   "outputs": [],
   "source": [
    "# sample data for simulation\n",
    "\n",
    "sample = {\n",
    "    'text': ' 싸울 준비를 하고 있죠 자 양전 제2경기 이렇게 마무리가 됐습니다. 이 경기의 정확한 경기 결과는 경광판을 통해서 다시 한번 확인해 주시기 바랍니다 확정 전까지는 우건을 구기거나 부리지 마시기 바랍니다.',\n",
    "    'chunks': [\n",
    "        {'timestamp': (0.0, 5.84), 'text': ' 싸울 준비를 하고 있죠'},\n",
    "        {'timestamp': (7.08, 9.68), 'text': ' 자 양전'},\n",
    "        {'timestamp': (18.72, 25.36), 'text': ' 제2경기 이렇게 마무리가 됐습니다. 이 경기의 정확한 경기 결과는'},\n",
    "        {'timestamp': (25.36, 29.8), 'text': ' 경광판을 통해서 다시 한번 확인해 주시기 바랍니다'},\n",
    "        {'timestamp': (0.0, 4.2), 'text': ' 확정 전까지는 우건을 구기거나 부리지 마시기 바랍니다.'}\n",
    "    ]\n",
    "}"
   ]
  },
  {
   "cell_type": "code",
   "execution_count": null,
   "metadata": {},
   "outputs": [
    {
     "data": {
      "application/vnd.jupyter.widget-view+json": {
       "model_id": "88ffdeb6d60644b6802fd32ed1256b47",
       "version_major": 2,
       "version_minor": 0
      },
      "text/plain": [
       "  0%|          | 0/3 [00:00<?, ?it/s]"
      ]
     },
     "metadata": {},
     "output_type": "display_data"
    },
    {
     "name": "stdout",
     "output_type": "stream",
     "text": [
      "Working Directory: 2024\n"
     ]
    },
    {
     "data": {
      "application/vnd.jupyter.widget-view+json": {
       "model_id": "d8e9a12d887c42d7b762e229104586ca",
       "version_major": 2,
       "version_minor": 0
      },
      "text/plain": [
       "  0%|          | 0/4 [00:00<?, ?it/s]"
      ]
     },
     "metadata": {},
     "output_type": "display_data"
    },
    {
     "name": "stdout",
     "output_type": "stream",
     "text": [
      "Working Directory: 2023\n"
     ]
    },
    {
     "data": {
      "application/vnd.jupyter.widget-view+json": {
       "model_id": "b1a8b61de9b64a0bbb06e8b2f6587d18",
       "version_major": 2,
       "version_minor": 0
      },
      "text/plain": [
       "  0%|          | 0/2 [00:00<?, ?it/s]"
      ]
     },
     "metadata": {},
     "output_type": "display_data"
    },
    {
     "name": "stdout",
     "output_type": "stream",
     "text": [
      "Working Directory: 2022\n"
     ]
    },
    {
     "data": {
      "application/vnd.jupyter.widget-view+json": {
       "model_id": "ad300086f82b4b349361fce44303fef7",
       "version_major": 2,
       "version_minor": 0
      },
      "text/plain": [
       "  0%|          | 0/2 [00:00<?, ?it/s]"
      ]
     },
     "metadata": {},
     "output_type": "display_data"
    }
   ],
   "source": [
    "for first_subdir, files in tqdm(grouped_files.items()):\n",
    "    print(f\"Working Directory: {first_subdir}\")\n",
    "    output_file = f\"transcriptions_test_{first_subdir}.csv\"\n",
    "\n",
    "    # Write the header only once for the CSV file\n",
    "    header_written = False\n",
    "\n",
    "    for file in tqdm(files):\n",
    "\n",
    "        transcription = model(\n",
    "            file,\n",
    "            return_timestamps=True\n",
    "        )\n",
    "\n",
    "        # Simulate transcription process\n",
    "        # transcription = {\n",
    "        #     \"file\": file,\n",
    "        #     \"data\": sample\n",
    "        # }\n",
    "\n",
    "        # Convert the new transcription to a DataFrame\n",
    "        new_df = gf.create_dataframe_from_list([transcription])\n",
    "\n",
    "        # Append the new data to the CSV file\n",
    "        new_df.to_csv(output_file, mode='a', header=not header_written, index=False)\n",
    "\n",
    "        # Mark that the header has been written\n",
    "        header_written = True"
   ]
  },
  {
   "cell_type": "markdown",
   "metadata": {},
   "source": [
    "## Result"
   ]
  },
  {
   "cell_type": "code",
   "execution_count": 69,
   "metadata": {},
   "outputs": [
    {
     "data": {
      "text/html": [
       "<div>\n",
       "<style scoped>\n",
       "    .dataframe tbody tr th:only-of-type {\n",
       "        vertical-align: middle;\n",
       "    }\n",
       "\n",
       "    .dataframe tbody tr th {\n",
       "        vertical-align: top;\n",
       "    }\n",
       "\n",
       "    .dataframe thead th {\n",
       "        text-align: right;\n",
       "    }\n",
       "</style>\n",
       "<table border=\"1\" class=\"dataframe\">\n",
       "  <thead>\n",
       "    <tr style=\"text-align: right;\">\n",
       "      <th></th>\n",
       "      <th>file</th>\n",
       "      <th>text</th>\n",
       "      <th>timestamp</th>\n",
       "    </tr>\n",
       "  </thead>\n",
       "  <tbody>\n",
       "    <tr>\n",
       "      <th>0</th>\n",
       "      <td>./audio/2023/2023.02.21_01_test.mp3</td>\n",
       "      <td>싸울 준비를 하고 있죠 자 양전 제2경기 이렇게 마무리가 됐습니다. 이 경기의 정...</td>\n",
       "      <td>0.0 - 5.84:  싸울 준비를 하고 있죠, 7.08 - 9.68:  자 양전,...</td>\n",
       "    </tr>\n",
       "    <tr>\n",
       "      <th>1</th>\n",
       "      <td>./audio/2023/2023.02.21_02_test.mp3</td>\n",
       "      <td>싸울 준비를 하고 있죠 자 양전 제2경기 이렇게 마무리가 됐습니다. 이 경기의 정...</td>\n",
       "      <td>0.0 - 5.84:  싸울 준비를 하고 있죠, 7.08 - 9.68:  자 양전,...</td>\n",
       "    </tr>\n",
       "  </tbody>\n",
       "</table>\n",
       "</div>"
      ],
      "text/plain": [
       "                                  file  \\\n",
       "0  ./audio/2023/2023.02.21_01_test.mp3   \n",
       "1  ./audio/2023/2023.02.21_02_test.mp3   \n",
       "\n",
       "                                                text  \\\n",
       "0   싸울 준비를 하고 있죠 자 양전 제2경기 이렇게 마무리가 됐습니다. 이 경기의 정...   \n",
       "1   싸울 준비를 하고 있죠 자 양전 제2경기 이렇게 마무리가 됐습니다. 이 경기의 정...   \n",
       "\n",
       "                                           timestamp  \n",
       "0  0.0 - 5.84:  싸울 준비를 하고 있죠, 7.08 - 9.68:  자 양전,...  \n",
       "1  0.0 - 5.84:  싸울 준비를 하고 있죠, 7.08 - 9.68:  자 양전,...  "
      ]
     },
     "execution_count": 69,
     "metadata": {},
     "output_type": "execute_result"
    }
   ],
   "source": [
    "sample_df = pd.read_csv(\"transcriptions_test_2023.csv\")\n",
    "sample_df.head()"
   ]
  },
  {
   "cell_type": "code",
   "execution_count": 30,
   "metadata": {},
   "outputs": [],
   "source": [
    "sample_dict = sample_df.to_dict(orient=\"records\")"
   ]
  },
  {
   "cell_type": "code",
   "execution_count": 31,
   "metadata": {},
   "outputs": [
    {
     "data": {
      "text/plain": [
       "{'file': './audio/2024/2024-01/2024.02.21_02_test.mp3',\n",
       " 'text': ' 싸울 준비를 하고 있죠 자 양전 제2경기 이렇게 마무리가 됐습니다. 이 경기의 정확한 경기 결과는 경광판을 통해서 다시 한번 확인해 주시기 바랍니다 확정 전까지는 우건을 구기거나 부리지 마시기 바랍니다.',\n",
       " 'timestamp': '0.0 - 5.84:  싸울 준비를 하고 있죠, 7.08 - 9.68:  자 양전, 18.72 - 25.36:  제2경기 이렇게 마무리가 됐습니다. 이 경기의 정확한 경기 결과는, 25.36 - 29.8:  경광판을 통해서 다시 한번 확인해 주시기 바랍니다, 0.0 - 4.2:  확정 전까지는 우건을 구기거나 부리지 마시기 바랍니다.'}"
      ]
     },
     "execution_count": 31,
     "metadata": {},
     "output_type": "execute_result"
    }
   ],
   "source": [
    "sample_dict[0]"
   ]
  }
 ],
 "metadata": {
  "kernelspec": {
   "display_name": ".venv",
   "language": "python",
   "name": "python3"
  },
  "language_info": {
   "codemirror_mode": {
    "name": "ipython",
    "version": 3
   },
   "file_extension": ".py",
   "mimetype": "text/x-python",
   "name": "python",
   "nbconvert_exporter": "python",
   "pygments_lexer": "ipython3",
   "version": "3.12.9"
  }
 },
 "nbformat": 4,
 "nbformat_minor": 2
}
